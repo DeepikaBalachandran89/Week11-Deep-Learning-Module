{
 "cells": [
  {
   "cell_type": "code",
   "execution_count": 1,
   "id": "715a83d7-94c8-4747-a920-9a04d7027622",
   "metadata": {},
   "outputs": [],
   "source": [
    "# Basic Libraries\n",
    "import numpy as np\n",
    "import pandas as pd\n",
    "\n",
    "# Visualization libraries\n",
    "import matplotlib.pyplot as plt\n",
    "import pydot\n",
    "import seaborn as sns\n",
    "\n",
    "#Evaluation library\n",
    "from sklearn.metrics import confusion_matrix\n",
    "from sklearn.metrics import accuracy_score\n",
    "from sklearn.model_selection import GridSearchCV\n",
    "\n",
    "# Deep Learning libraries\n",
    "import tensorflow as tf\n",
    "from tensorflow.keras import layers\n",
    "import keras\n",
    "from keras.models import Sequential\n",
    "from keras.layers.core import Dense,Activation,Dropout\n",
    "from keras.datasets import mnist\n",
    "from keras.utils.np_utils import to_categorical\n",
    "from keras.wrappers.scikit_learn import KerasClassifier"
   ]
  },
  {
   "cell_type": "code",
   "execution_count": 2,
   "id": "4ae02c55-4ff3-495c-a358-3e4e7791c534",
   "metadata": {},
   "outputs": [],
   "source": [
    "import tensorflow as tf\n",
    "(x_train, y_train), (x_test, y_test) = tf.keras.datasets.mnist.load_data()"
   ]
  },
  {
   "cell_type": "code",
   "execution_count": 3,
   "id": "b60c0059-db87-407b-9a0b-77c8e87bd32d",
   "metadata": {},
   "outputs": [
    {
     "data": {
      "text/plain": [
       "(60000, 28, 28)"
      ]
     },
     "execution_count": 3,
     "metadata": {},
     "output_type": "execute_result"
    }
   ],
   "source": [
    "x_train.shape"
   ]
  },
  {
   "cell_type": "code",
   "execution_count": 4,
   "id": "4573024b-a96f-4cdf-bf39-54b65589c6e0",
   "metadata": {},
   "outputs": [
    {
     "data": {
      "text/plain": [
       "(60000,)"
      ]
     },
     "execution_count": 4,
     "metadata": {},
     "output_type": "execute_result"
    }
   ],
   "source": [
    "y_train.shape"
   ]
  },
  {
   "cell_type": "code",
   "execution_count": 5,
   "id": "589e5aa7-020d-45b1-8573-a9158acde7df",
   "metadata": {},
   "outputs": [
    {
     "data": {
      "text/plain": [
       "(10000, 28, 28)"
      ]
     },
     "execution_count": 5,
     "metadata": {},
     "output_type": "execute_result"
    }
   ],
   "source": [
    "x_test.shape"
   ]
  },
  {
   "cell_type": "code",
   "execution_count": 6,
   "id": "0b233633-052b-4c68-ad70-0ae91487f087",
   "metadata": {},
   "outputs": [
    {
     "data": {
      "text/plain": [
       "(10000,)"
      ]
     },
     "execution_count": 6,
     "metadata": {},
     "output_type": "execute_result"
    }
   ],
   "source": [
    "y_test.shape"
   ]
  },
  {
   "cell_type": "code",
   "execution_count": 7,
   "id": "016b6d78-dd4f-4773-a683-3e7ada2a0449",
   "metadata": {},
   "outputs": [],
   "source": [
    "x_train = x_train.reshape(x_train.shape[0], 28, 28, 1)   #flattern 784cells\n",
    "x_test = x_test.reshape(x_test.shape[0], 28, 28, 1)      #flattern 784cells\n",
    "input_shape = (28, 28, 1)      #1--> grey scale image"
   ]
  },
  {
   "cell_type": "code",
   "execution_count": 8,
   "id": "31967d64-6ebb-4737-a626-bb0c4856eef0",
   "metadata": {},
   "outputs": [
    {
     "data": {
      "text/plain": [
       "(60000, 28, 28, 1)"
      ]
     },
     "execution_count": 8,
     "metadata": {},
     "output_type": "execute_result"
    }
   ],
   "source": [
    "x_train.shape"
   ]
  },
  {
   "cell_type": "code",
   "execution_count": 9,
   "id": "268f1c90-fcc4-44e7-9ba0-268b877492fd",
   "metadata": {},
   "outputs": [],
   "source": [
    "#Encoding Digit MNIST Labels\n",
    "from keras.utils import to_categorical     #0-9 10 classes\n",
    "\n",
    "y_train = to_categorical(y_train, num_classes=10)\n",
    "\n",
    "y_test = to_categorical(y_test, num_classes=10)"
   ]
  },
  {
   "cell_type": "code",
   "execution_count": 10,
   "id": "e0c000d6-203b-457e-b18f-0f9e53b29635",
   "metadata": {},
   "outputs": [
    {
     "data": {
      "text/plain": [
       "array([0., 0., 0., 0., 0., 1., 0., 0., 0., 0.], dtype=float32)"
      ]
     },
     "execution_count": 10,
     "metadata": {},
     "output_type": "execute_result"
    }
   ],
   "source": [
    "y_train[0]"
   ]
  },
  {
   "cell_type": "code",
   "execution_count": 11,
   "id": "5b851ef0-71ea-4021-879e-a32201661a44",
   "metadata": {},
   "outputs": [
    {
     "data": {
      "text/plain": [
       "array([1., 0., 0., 0., 0., 0., 0., 0., 0., 0.], dtype=float32)"
      ]
     },
     "execution_count": 11,
     "metadata": {},
     "output_type": "execute_result"
    }
   ],
   "source": [
    "y_train[1]"
   ]
  },
  {
   "cell_type": "code",
   "execution_count": null,
   "id": "0489f78a-5367-40b9-bdab-788f315818b9",
   "metadata": {},
   "outputs": [],
   "source": []
  },
  {
   "cell_type": "code",
   "execution_count": 12,
   "id": "93ee1310-28f7-48f6-8fa8-ba817f534e8d",
   "metadata": {},
   "outputs": [],
   "source": [
    "x_train = x_train.astype('float32')\n",
    "x_test = x_test.astype('float32')"
   ]
  },
  {
   "cell_type": "code",
   "execution_count": 13,
   "id": "7557b496-18a5-4e49-8370-2ddfd0e2b5b3",
   "metadata": {},
   "outputs": [],
   "source": [
    "x_train /= 255   #normalize the pixel value\n",
    "x_test /= 255"
   ]
  },
  {
   "cell_type": "code",
   "execution_count": 15,
   "id": "86548834-2273-4383-ab2d-fd53d74522d7",
   "metadata": {},
   "outputs": [],
   "source": [
    "from tensorflow.keras.models import Sequential\n",
    "from tensorflow.keras.layers import Dense, Conv2D, Dropout, Flatten, MaxPooling2D\n",
    "model = Sequential()\n",
    "model.add(Conv2D(32, (3, 3), activation='relu', input_shape=(28, 28, 1)))\n",
    "model.add(MaxPooling2D((2, 2)))\n",
    "model.add(Conv2D(64, (3, 3), activation='relu'))\n",
    "model.add(MaxPooling2D((2, 2)))\n",
    "model.add(Conv2D(128, (3, 3), activation='relu'))\n",
    "model.add(MaxPooling2D((2, 2)))\n",
    "model.add(Flatten())\n",
    "model.add(Dense(128, activation='relu'))\n",
    "model.add(Dropout(0.5))\n",
    "model.add(Dense(10, activation='softmax'))"
   ]
  },
  {
   "cell_type": "code",
   "execution_count": 19,
   "id": "34eb27d8-1656-403f-91ca-9f35a1b5dc3c",
   "metadata": {},
   "outputs": [
    {
     "name": "stdout",
     "output_type": "stream",
     "text": [
      "Epoch 1/10\n",
      "469/469 [==============================] - 40s 83ms/step - loss: 0.4135 - accuracy: 0.8716 - val_loss: 0.1117 - val_accuracy: 0.9653\n",
      "Epoch 2/10\n",
      "469/469 [==============================] - 41s 88ms/step - loss: 0.1209 - accuracy: 0.9651 - val_loss: 0.0754 - val_accuracy: 0.9765\n",
      "Epoch 3/10\n",
      "469/469 [==============================] - 41s 88ms/step - loss: 0.0850 - accuracy: 0.9750 - val_loss: 0.0702 - val_accuracy: 0.9776\n",
      "Epoch 4/10\n",
      "469/469 [==============================] - 39s 84ms/step - loss: 0.0687 - accuracy: 0.9800 - val_loss: 0.0512 - val_accuracy: 0.9837\n",
      "Epoch 5/10\n",
      "469/469 [==============================] - 40s 86ms/step - loss: 0.0559 - accuracy: 0.9843 - val_loss: 0.0487 - val_accuracy: 0.9870\n",
      "Epoch 6/10\n",
      "469/469 [==============================] - 42s 89ms/step - loss: 0.0510 - accuracy: 0.9850 - val_loss: 0.0426 - val_accuracy: 0.9869\n",
      "Epoch 7/10\n",
      "469/469 [==============================] - 40s 86ms/step - loss: 0.0410 - accuracy: 0.9879 - val_loss: 0.0530 - val_accuracy: 0.9855\n",
      "Epoch 8/10\n",
      "469/469 [==============================] - 40s 84ms/step - loss: 0.0379 - accuracy: 0.9887 - val_loss: 0.0452 - val_accuracy: 0.9874\n",
      "Epoch 9/10\n",
      "469/469 [==============================] - 40s 86ms/step - loss: 0.0318 - accuracy: 0.9905 - val_loss: 0.0423 - val_accuracy: 0.9888\n",
      "Epoch 10/10\n",
      "469/469 [==============================] - 40s 85ms/step - loss: 0.0301 - accuracy: 0.9911 - val_loss: 0.0502 - val_accuracy: 0.9855\n"
     ]
    },
    {
     "data": {
      "text/plain": [
       "<keras.callbacks.History at 0x1b98c57f4c0>"
      ]
     },
     "execution_count": 19,
     "metadata": {},
     "output_type": "execute_result"
    }
   ],
   "source": [
    "#https://keras.io/api/optimizers/\n",
    "model.compile(optimizer='adam', loss='categorical_crossentropy', metrics=['accuracy'])\n",
    "model.fit(x_train, y_train, epochs=10, batch_size=128, validation_data=(x_test, y_test))"
   ]
  },
  {
   "cell_type": "code",
   "execution_count": 20,
   "id": "c6c503ec-27a2-4790-a484-900e611119b8",
   "metadata": {},
   "outputs": [
    {
     "name": "stdout",
     "output_type": "stream",
     "text": [
      "313/313 [==============================] - 1s 4ms/step - loss: 0.0502 - accuracy: 0.9855\n"
     ]
    },
    {
     "data": {
      "text/plain": [
       "[0.05021035671234131, 0.9854999780654907]"
      ]
     },
     "execution_count": 20,
     "metadata": {},
     "output_type": "execute_result"
    }
   ],
   "source": [
    "model.evaluate(x_test, y_test)                                         #test(public exam  0.06-->loss 0.98-->accuracy"
   ]
  },
  {
   "cell_type": "code",
   "execution_count": 22,
   "id": "04245a3d-7e92-4b07-80f1-cee2d2634395",
   "metadata": {},
   "outputs": [
    {
     "data": {
      "text/plain": [
       "array([1.5784549e-08, 3.6645265e-06, 7.7852928e-06, 3.0869049e-07,\n",
       "       3.2970817e-08, 1.5944124e-09, 3.4938236e-11, 9.9998760e-01,\n",
       "       2.2204908e-08, 4.3738655e-07], dtype=float32)"
      ]
     },
     "execution_count": 22,
     "metadata": {},
     "output_type": "execute_result"
    }
   ],
   "source": [
    "y_predict[0]"
   ]
  },
  {
   "cell_type": "code",
   "execution_count": 23,
   "id": "104fda5f-85a8-4e7c-b500-5d4d9dafabc9",
   "metadata": {},
   "outputs": [],
   "source": [
    "import numpy as np"
   ]
  },
  {
   "cell_type": "code",
   "execution_count": 24,
   "id": "81669e23-56c3-4b4e-aaef-773becbe5504",
   "metadata": {},
   "outputs": [],
   "source": [
    "y_predicts=np.argmax(y_predict, axis=1)"
   ]
  },
  {
   "cell_type": "code",
   "execution_count": 25,
   "id": "1c0e59d1-454f-46e8-867d-3a08d9acb132",
   "metadata": {},
   "outputs": [
    {
     "data": {
      "text/plain": [
       "array([7, 2, 1, ..., 4, 5, 6], dtype=int64)"
      ]
     },
     "execution_count": 25,
     "metadata": {},
     "output_type": "execute_result"
    }
   ],
   "source": [
    "y_predicts"
   ]
  },
  {
   "cell_type": "code",
   "execution_count": 26,
   "id": "30bb7f1b-c43b-458e-91b9-826ae86782ad",
   "metadata": {},
   "outputs": [
    {
     "data": {
      "text/plain": [
       "7"
      ]
     },
     "execution_count": 26,
     "metadata": {},
     "output_type": "execute_result"
    }
   ],
   "source": [
    "y_predicts[0]                                                                         # (Predicted o/p)"
   ]
  },
  {
   "cell_type": "code",
   "execution_count": 27,
   "id": "455d5a35-7fac-4905-9c5d-5656da5ee430",
   "metadata": {},
   "outputs": [
    {
     "data": {
      "text/plain": [
       "2"
      ]
     },
     "execution_count": 27,
     "metadata": {},
     "output_type": "execute_result"
    }
   ],
   "source": [
    "y_predicts[1]"
   ]
  },
  {
   "cell_type": "code",
   "execution_count": 29,
   "id": "15e576d9-621b-4748-87e1-a3ea7f901c43",
   "metadata": {},
   "outputs": [],
   "source": [
    "y_test_class=np.argmax(y_test, axis=1)"
   ]
  },
  {
   "cell_type": "code",
   "execution_count": 30,
   "id": "9ae40e96-7a07-4b43-b2e2-468db5d3ac34",
   "metadata": {},
   "outputs": [
    {
     "data": {
      "text/plain": [
       "array([7, 2, 1, ..., 4, 5, 6], dtype=int64)"
      ]
     },
     "execution_count": 30,
     "metadata": {},
     "output_type": "execute_result"
    }
   ],
   "source": [
    "y_test_class"
   ]
  },
  {
   "cell_type": "code",
   "execution_count": 31,
   "id": "05ce8c65-7f60-449f-8142-ed55b1da3ab7",
   "metadata": {},
   "outputs": [
    {
     "data": {
      "text/plain": [
       "7"
      ]
     },
     "execution_count": 31,
     "metadata": {},
     "output_type": "execute_result"
    }
   ],
   "source": [
    "y_test_class[0]"
   ]
  },
  {
   "cell_type": "code",
   "execution_count": 32,
   "id": "0c4a9dfd-11d7-4be3-a6ac-05e568bf410a",
   "metadata": {},
   "outputs": [
    {
     "data": {
      "text/plain": [
       "2"
      ]
     },
     "execution_count": 32,
     "metadata": {},
     "output_type": "execute_result"
    }
   ],
   "source": [
    "y_test_class[1]"
   ]
  },
  {
   "cell_type": "code",
   "execution_count": 33,
   "id": "7f494293-ac16-412d-b497-9f054381c027",
   "metadata": {},
   "outputs": [
    {
     "data": {
      "image/png": "[encoded data removed]",
      "text/plain": [
       "<Figure size 1000x1000 with 2 Axes>"
      ]
     },
     "metadata": {},
     "output_type": "display_data"
    }
   ],
   "source": [
    "#Confusion matrix for Digit MNIST\n",
    "con_mat=confusion_matrix(y_test_class,y_predicts)\n",
    "plt.style.use('seaborn-v0_8-deep')\n",
    "plt.figure(figsize=(10,10))\n",
    "sns.heatmap(con_mat,annot=True,annot_kws={'size': 15},linewidths=0.5,fmt=\"d\",cmap=\"gray\")\n",
    "plt.title('True or False predicted digit MNIST\\n',fontweight='bold',fontsize=15)\n",
    "plt.show()"
   ]
  },
  {
   "cell_type": "code",
   "execution_count": 34,
   "id": "5fce1778-f7ce-42e1-a2ef-e8cfe822d734",
   "metadata": {},
   "outputs": [
    {
     "name": "stdout",
     "output_type": "stream",
     "text": [
      "              precision    recall  f1-score   support\n",
      "\n",
      "           0       0.99      0.99      0.99       980\n",
      "           1       1.00      1.00      1.00      1135\n",
      "           2       0.94      0.99      0.97      1032\n",
      "           3       0.99      0.99      0.99      1010\n",
      "           4       0.99      0.99      0.99       982\n",
      "           5       0.99      0.99      0.99       892\n",
      "           6       0.99      0.99      0.99       958\n",
      "           7       0.99      0.94      0.96      1028\n",
      "           8       0.99      0.99      0.99       974\n",
      "           9       0.99      0.98      0.99      1009\n",
      "\n",
      "    accuracy                           0.99     10000\n",
      "   macro avg       0.99      0.99      0.99     10000\n",
      "weighted avg       0.99      0.99      0.99     10000\n",
      "\n"
     ]
    }
   ],
   "source": [
    "from sklearn.metrics import classification_report\n",
    "print(classification_report(y_test_class,y_predicts))"
   ]
  },
  {
   "cell_type": "code",
   "execution_count": 35,
   "id": "70dc8b7b-c89b-4060-9adb-fe3fe9636ba1",
   "metadata": {},
   "outputs": [
    {
     "name": "stdout",
     "output_type": "stream",
     "text": [
      "1/1 [==============================] - 0s 279ms/step\n",
      "6\n"
     ]
    },
    {
     "data": {
      "image/png": "[encoded data removed]",
      "text/plain": [
       "<Figure size 640x480 with 1 Axes>"
      ]
     },
     "metadata": {},
     "output_type": "display_data"
    }
   ],
   "source": [
    "import matplotlib.pyplot as plt\n",
    "image_index = 6900\n",
    "plt.imshow(x_test[image_index].reshape(28, 28),cmap='Greys')\n",
    "predict = x_test[image_index].reshape(28,28)\n",
    "pred = model.predict(x_test[image_index].reshape(1, 28, 28, 1))\n",
    "print(pred.argmax())"
   ]
  },
  {
   "cell_type": "code",
   "execution_count": null,
   "id": "ff5b1f44-0c1f-4ed3-8836-750ffe6c01e2",
   "metadata": {},
   "outputs": [],
   "source": []
  },
  {
   "cell_type": "code",
   "execution_count": null,
   "id": "5c800356-b3e2-4538-b4b1-d3f16fb206c4",
   "metadata": {},
   "outputs": [],
   "source": []
  }
 ],
 "metadata": {
  "kernelspec": {
   "display_name": "Python 3 (ipykernel)",
   "language": "python",
   "name": "python3"
  },
  "language_info": {
   "codemirror_mode": {
    "name": "ipython",
    "version": 3
   },
   "file_extension": ".py",
   "mimetype": "text/x-python",
   "name": "python",
   "nbconvert_exporter": "python",
   "pygments_lexer": "ipython3",
   "version": "3.10.14"
  }
 },
 "nbformat": 4,
 "nbformat_minor": 5
}
