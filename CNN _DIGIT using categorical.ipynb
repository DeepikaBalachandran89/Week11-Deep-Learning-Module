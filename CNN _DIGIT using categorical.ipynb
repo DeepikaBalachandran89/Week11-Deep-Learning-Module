{
 "cells": [
  {
   "cell_type": "code",
   "execution_count": 1,
   "id": "b09865cc-2159-4aed-baa1-c592e4180dd2",
   "metadata": {},
   "outputs": [],
   "source": [
    "# Basic Libraries\n",
    "import numpy as np\n",
    "import pandas as pd\n",
    "\n",
    "# Visualization libraries\n",
    "import matplotlib.pyplot as plt\n",
    "import pydot\n",
    "import seaborn as sns\n",
    "\n",
    "#Evaluation library\n",
    "from sklearn.metrics import confusion_matrix\n",
    "from sklearn.metrics import accuracy_score\n",
    "from sklearn.model_selection import GridSearchCV\n",
    "\n",
    "# Deep Learning libraries\n",
    "import tensorflow as tf\n",
    "from tensorflow.keras import layers\n",
    "import keras\n",
    "from keras.models import Sequential\n",
    "from keras.layers.core import Dense,Activation,Dropout\n",
    "from keras.datasets import mnist\n",
    "from keras.utils.np_utils import to_categorical\n",
    "from keras.wrappers.scikit_learn import KerasClassifier"
   ]
  },
  {
   "cell_type": "code",
   "execution_count": 2,
   "id": "1dde8935-cee6-4f50-9ac9-4b77552187c1",
   "metadata": {},
   "outputs": [],
   "source": [
    "import tensorflow as tf\n",
    "(x_train, y_train), (x_test, y_test) = tf.keras.datasets.mnist.load_data()"
   ]
  },
  {
   "cell_type": "code",
   "execution_count": 3,
   "id": "857dc3c7-3db5-4449-8a2c-ee78ae3717c8",
   "metadata": {},
   "outputs": [],
   "source": [
    "x_train = x_train.reshape(x_train.shape[0], 28, 28, 1)  #i/p 4D Array(60000,28,28,1) (so last o/p format also 4D(1x28x28x1)\n",
    "x_test = x_test.reshape(x_test.shape[0], 28, 28, 1) #  (10000,28,28,1)"
   ]
  },
  {
   "cell_type": "code",
   "execution_count": 4,
   "id": "0ddba31d-4255-4111-aca6-265711f4625b",
   "metadata": {},
   "outputs": [
    {
     "data": {
      "text/plain": [
       "(60000, 28, 28, 1)"
      ]
     },
     "execution_count": 4,
     "metadata": {},
     "output_type": "execute_result"
    }
   ],
   "source": [
    "x_train.shape\n",
    "# neural network model expects the input data to be in a specific format, which is a 4D array \n",
    "#with shape (N, H, W, C), where N is the number of samples, H and W are the height and width of the images, and C is the number of color channels.\n",
    "#1-->grey scale image"
   ]
  },
  {
   "cell_type": "code",
   "execution_count": 5,
   "id": "08db7bbb-3650-46a6-b87f-acf1871e8519",
   "metadata": {},
   "outputs": [],
   "source": [
    "x_train = x_train.astype('float32')\n",
    "x_test = x_test.astype('float32')"
   ]
  },
  {
   "cell_type": "code",
   "execution_count": 6,
   "id": "9d207994-fe07-49d6-beb7-8895d9e2e073",
   "metadata": {},
   "outputs": [],
   "source": [
    "x_train /= 255\n",
    "x_test /= 255\n",
    "#x_train and x_test now have pixel values in the range of 0 to 1."
   ]
  },
  {
   "cell_type": "code",
   "execution_count": 7,
   "id": "7caace29-e8eb-49fa-952c-a684ae0e81d7",
   "metadata": {},
   "outputs": [],
   "source": [
    "#Encoding Digit MNIST Labels\n",
    "from keras.utils import to_categorical     #0-9 10 classes\n",
    "\n",
    "y_train = to_categorical(y_train, num_classes=10)\n",
    "\n",
    "y_test = to_categorical(y_test, num_classes=10)"
   ]
  },
  {
   "cell_type": "code",
   "execution_count": 10,
   "id": "be21d1b2-7456-438e-b306-4222ce97cb89",
   "metadata": {},
   "outputs": [],
   "source": [
    "from sklearn.metrics import confusion_matrix, classification_report\n",
    "from keras.models import Sequential\n",
    "from keras.layers import Conv2D, MaxPooling2D, Flatten, Dense\n",
    "from keras.utils import to_categorical\n",
    "\n",
    "model = Sequential()\n",
    "model.add(Conv2D(32, (3, 3), activation='relu', input_shape=(28, 28, 1)))\n",
    "model.add(MaxPooling2D((2, 2)))\n",
    "model.add(Flatten())\n",
    "model.add(Dense(100, activation='relu'))\n",
    "model.add(Dense(10, activation='softmax'))"
   ]
  },
  {
   "cell_type": "code",
   "execution_count": 19,
   "id": "46310e03-9e7c-4efd-9d9b-1533d7e98ae7",
   "metadata": {},
   "outputs": [
    {
     "name": "stdout",
     "output_type": "stream",
     "text": [
      "Model: \"sequential_2\"\n",
      "_________________________________________________________________\n",
      " Layer (type)                Output Shape              Param #   \n",
      "=================================================================\n",
      " conv2d (Conv2D)             (None, 26, 26, 32)        320       \n",
      "                                                                 \n",
      " max_pooling2d (MaxPooling2D  (None, 13, 13, 32)       0         \n",
      " )                                                               \n",
      "                                                                 \n",
      " flatten (Flatten)           (None, 5408)              0         \n",
      "                                                                 \n",
      " dense (Dense)               (None, 100)               540900    \n",
      "                                                                 \n",
      " dense_1 (Dense)             (None, 10)                1010      \n",
      "                                                                 \n",
      "=================================================================\n",
      "Total params: 542,230\n",
      "Trainable params: 542,230\n",
      "Non-trainable params: 0\n",
      "_________________________________________________________________\n"
     ]
    }
   ],
   "source": [
    "model.summary()"
   ]
  },
  {
   "cell_type": "code",
   "execution_count": 18,
   "id": "f62b3c48-c5a3-4c8c-be7b-99f04c548a58",
   "metadata": {},
   "outputs": [
    {
     "name": "stdout",
     "output_type": "stream",
     "text": [
      "Epoch 1/10\n",
      "469/469 [==============================] - 21s 43ms/step - loss: 0.2266 - accuracy: 0.9344 - val_loss: 0.0880 - val_accuracy: 0.9739\n",
      "Epoch 2/10\n",
      "469/469 [==============================] - 21s 45ms/step - loss: 0.0742 - accuracy: 0.9779 - val_loss: 0.0560 - val_accuracy: 0.9810\n",
      "Epoch 3/10\n",
      "469/469 [==============================] - 22s 47ms/step - loss: 0.0513 - accuracy: 0.9847 - val_loss: 0.0502 - val_accuracy: 0.9837\n",
      "Epoch 4/10\n",
      "469/469 [==============================] - 24s 50ms/step - loss: 0.0381 - accuracy: 0.9888 - val_loss: 0.0483 - val_accuracy: 0.9832\n",
      "Epoch 5/10\n",
      "469/469 [==============================] - 21s 44ms/step - loss: 0.0301 - accuracy: 0.9910 - val_loss: 0.0454 - val_accuracy: 0.9837\n",
      "Epoch 6/10\n",
      "469/469 [==============================] - 22s 48ms/step - loss: 0.0235 - accuracy: 0.9928 - val_loss: 0.0446 - val_accuracy: 0.9857\n",
      "Epoch 7/10\n",
      "469/469 [==============================] - 21s 44ms/step - loss: 0.0191 - accuracy: 0.9945 - val_loss: 0.0434 - val_accuracy: 0.9851\n",
      "Epoch 8/10\n",
      "469/469 [==============================] - 22s 47ms/step - loss: 0.0146 - accuracy: 0.9957 - val_loss: 0.0443 - val_accuracy: 0.9856\n",
      "Epoch 9/10\n",
      "469/469 [==============================] - 23s 48ms/step - loss: 0.0114 - accuracy: 0.9968 - val_loss: 0.0447 - val_accuracy: 0.9856\n",
      "Epoch 10/10\n",
      "469/469 [==============================] - 22s 48ms/step - loss: 0.0092 - accuracy: 0.9974 - val_loss: 0.0513 - val_accuracy: 0.9851\n"
     ]
    }
   ],
   "source": [
    "# Compile the model\n",
    "# Train the model\n",
    "model.compile(optimizer='adam', loss='categorical_crossentropy', metrics=['accuracy'])\n",
    "history=model.fit(x_train, y_train, batch_size=128, epochs=10,validation_data=(x_test, y_test))\n"
   ]
  },
  {
   "cell_type": "code",
   "execution_count": 21,
   "id": "1823a94d-ed83-48b1-b357-6056b4cf0888",
   "metadata": {},
   "outputs": [
    {
     "name": "stdout",
     "output_type": "stream",
     "text": [
      "313/313 [==============================] - 1s 4ms/step\n"
     ]
    }
   ],
   "source": [
    "y_predict = model.predict(x_test)"
   ]
  },
  {
   "cell_type": "code",
   "execution_count": 22,
   "id": "92c145fd-83d3-43eb-99a8-64484f93a802",
   "metadata": {},
   "outputs": [
    {
     "data": {
      "text/plain": [
       "array([4.5572218e-12, 5.0203681e-07, 1.0345645e-08, 2.7829968e-08,\n",
       "       1.4342412e-10, 9.8541904e-11, 2.5631048e-14, 9.9999952e-01,\n",
       "       2.5732326e-08, 8.3604563e-09], dtype=float32)"
      ]
     },
     "execution_count": 22,
     "metadata": {},
     "output_type": "execute_result"
    }
   ],
   "source": [
    "y_predict[0]    # 0-9 la At first 0 image la yena handwriiten image kila [0-9] image number la iruku.partha theriyadhu"
   ]
  },
  {
   "cell_type": "code",
   "execution_count": 23,
   "id": "854bad6c-71c1-429b-ab40-7f0e294170f4",
   "metadata": {},
   "outputs": [],
   "source": [
    "y_predicts=np.argmax(y_predict, axis=1) # Here we get the index of maximum value in the encoded vector\n",
    "# here we convert to one hot encoded array changes to number 0 image la yena handwritten no nu we knows"
   ]
  },
  {
   "cell_type": "code",
   "execution_count": 24,
   "id": "4ee0732a-4602-4f22-8e91-88ef90ec284d",
   "metadata": {},
   "outputs": [
    {
     "data": {
      "text/plain": [
       "7"
      ]
     },
     "execution_count": 24,
     "metadata": {},
     "output_type": "execute_result"
    }
   ],
   "source": [
    "y_predicts[0]                                                                         # (Predicted o/p)"
   ]
  },
  {
   "cell_type": "code",
   "execution_count": 25,
   "id": "6fb4e5a5-3b6b-4e0b-a98c-4a2634fb0b0c",
   "metadata": {},
   "outputs": [],
   "source": [
    "y_test_eval=np.argmax(y_test, axis=1)      #test o/p also convert to argmax  (Actualo/p)"
   ]
  },
  {
   "cell_type": "code",
   "execution_count": 26,
   "id": "1147b842-dd17-4f0d-8365-55bce015edeb",
   "metadata": {},
   "outputs": [
    {
     "data": {
      "text/plain": [
       "7"
      ]
     },
     "execution_count": 26,
     "metadata": {},
     "output_type": "execute_result"
    }
   ],
   "source": [
    "y_test_eval[0]"
   ]
  },
  {
   "cell_type": "code",
   "execution_count": 28,
   "id": "ead1f2e2-cb8b-4993-a31a-39821c682735",
   "metadata": {},
   "outputs": [
    {
     "name": "stdout",
     "output_type": "stream",
     "text": [
      "              precision    recall  f1-score   support\n",
      "\n",
      "           0       0.99      0.99      0.99       980\n",
      "           1       0.98      1.00      0.99      1135\n",
      "           2       0.98      0.99      0.98      1032\n",
      "           3       0.99      0.99      0.99      1010\n",
      "           4       0.97      1.00      0.99       982\n",
      "           5       0.99      0.99      0.99       892\n",
      "           6       0.98      0.99      0.98       958\n",
      "           7       0.98      0.98      0.98      1028\n",
      "           8       0.99      0.98      0.98       974\n",
      "           9       1.00      0.96      0.98      1009\n",
      "\n",
      "    accuracy                           0.99     10000\n",
      "   macro avg       0.99      0.99      0.99     10000\n",
      "weighted avg       0.99      0.99      0.99     10000\n",
      "\n"
     ]
    }
   ],
   "source": [
    "from sklearn.metrics import classification_report\n",
    "print(classification_report(y_test_eval,y_predicts))"
   ]
  },
  {
   "cell_type": "code",
   "execution_count": 29,
   "id": "a1f99f17-73c7-4e2f-bb50-6709e04e9e6e",
   "metadata": {},
   "outputs": [
    {
     "data": {
      "image/png": "[encoded data removed]",
      "text/plain": [
       "<Figure size 640x480 with 1 Axes>"
      ]
     },
     "metadata": {},
     "output_type": "display_data"
    }
   ],
   "source": [
    "# summarize history for accuracy\n",
    "plt.plot(history.history['accuracy'])\n",
    "plt.plot(history.history['val_accuracy'])\n",
    "plt.title('model accuracy')\n",
    "plt.ylabel('accuracy')\n",
    "plt.xlabel('epoch')\n",
    "plt.legend(['train', 'test'], loc='best')\n",
    "\n",
    "plt.show()\n",
    "\n",
    "#Acuracy always from Decreasing to Increasing level(more train and test gives good result)"
   ]
  },
  {
   "cell_type": "code",
   "execution_count": 30,
   "id": "bfbf8d30-ea2f-45ce-b4d6-2273fd158fd9",
   "metadata": {},
   "outputs": [
    {
     "data": {
      "image/png": "[encoded data removed]",
      "text/plain": [
       "<Figure size 640x480 with 1 Axes>"
      ]
     },
     "metadata": {},
     "output_type": "display_data"
    }
   ],
   "source": [
    "plt.plot(history.history['loss'])\n",
    "plt.plot(history.history['val_loss'])\n",
    "plt.title('model loss')\n",
    "plt.ylabel('loss')\n",
    "plt.xlabel('epoch')\n",
    "plt.legend(['train', 'test'], loc='best')\n",
    "plt.show()"
   ]
  },
  {
   "cell_type": "code",
   "execution_count": 33,
   "id": "c82efcf6-6204-4711-a17f-72d7a903b3f6",
   "metadata": {},
   "outputs": [
    {
     "name": "stdout",
     "output_type": "stream",
     "text": [
      "1/1 [==============================] - 0s 414ms/step\n",
      "7\n"
     ]
    },
    {
     "data": {
      "image/png": "[encoded data removed]",
      "text/plain": [
       "<Figure size 640x480 with 1 Axes>"
      ]
     },
     "metadata": {},
     "output_type": "display_data"
    }
   ],
   "source": [
    "import matplotlib.pyplot as plt\n",
    "image_index = 0\n",
    "plt.imshow(x_test[image_index].reshape(28, 28),cmap='Greys')\n",
    "predict = x_test[image_index].reshape(28,28)\n",
    "pred = model.predict(x_test[image_index].reshape(1, 28, 28, 1))#(no of sample at a time,height,width,greyscale) i/p 4D la dhan so here also 4D\n",
    "print(pred.argmax())\n",
    "#reshape the input data into a 4D array with dimensions 1x28x28x1, which is the input format for the neural network model."
   ]
  },
  {
   "cell_type": "code",
   "execution_count": null,
   "id": "2fc4040e-2f02-4aea-bb95-bcbc38ccc4b7",
   "metadata": {},
   "outputs": [],
   "source": []
  }
 ],
 "metadata": {
  "kernelspec": {
   "display_name": "Python 3 (ipykernel)",
   "language": "python",
   "name": "python3"
  },
  "language_info": {
   "codemirror_mode": {
    "name": "ipython",
    "version": 3
   },
   "file_extension": ".py",
   "mimetype": "text/x-python",
   "name": "python",
   "nbconvert_exporter": "python",
   "pygments_lexer": "ipython3",
   "version": "3.10.14"
  }
 },
 "nbformat": 4,
 "nbformat_minor": 5
}
