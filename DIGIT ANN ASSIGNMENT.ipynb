{
 "cells": [
  {
   "cell_type": "code",
   "execution_count": 1,
   "id": "84449028-77a6-486d-a6b3-bc6d9f64568e",
   "metadata": {},
   "outputs": [],
   "source": [
    "# Basic Libraries\n",
    "import numpy as np\n",
    "import pandas as pd\n",
    "\n",
    "# Visualization libraries\n",
    "import matplotlib.pyplot as plt\n",
    "import pydot\n",
    "import seaborn as sns\n",
    "\n",
    "#Evaluation library\n",
    "from sklearn.metrics import confusion_matrix\n",
    "from sklearn.metrics import accuracy_score\n",
    "from sklearn.model_selection import GridSearchCV\n",
    "\n",
    "# Deep Learning libraries\n",
    "import tensorflow as tf\n",
    "from tensorflow.keras import layers\n",
    "import keras\n",
    "from keras.models import Sequential\n",
    "from keras.layers.core import Dense,Activation,Dropout\n",
    "from keras.datasets import mnist\n",
    "from keras.utils.np_utils import to_categorical\n",
    "from keras.wrappers.scikit_learn import KerasClassifier"
   ]
  },
  {
   "cell_type": "code",
   "execution_count": 2,
   "id": "ed248558-dde3-4f58-80e5-d38e4f3422ad",
   "metadata": {},
   "outputs": [
    {
     "name": "stdout",
     "output_type": "stream",
     "text": [
      "Collecting pydot\n",
      "  Downloading pydot-2.0.0-py3-none-any.whl.metadata (9.6 kB)\n",
      "Requirement already satisfied: pyparsing>=3 in c:\\users\\lenovo\\anaconda3\\envs\\aiml\\lib\\site-packages (from pydot) (3.1.2)\n",
      "Downloading pydot-2.0.0-py3-none-any.whl (22 kB)\n",
      "Installing collected packages: pydot\n",
      "Successfully installed pydot-2.0.0\n"
     ]
    }
   ],
   "source": [
    "#!pip install pydot"
   ]
  },
  {
   "cell_type": "code",
   "execution_count": 3,
   "id": "483f781e-9085-4735-8963-e34f9584a273",
   "metadata": {},
   "outputs": [
    {
     "name": "stdout",
     "output_type": "stream",
     "text": [
      "Requirement already satisfied: keras==2.10.0 in c:\\users\\lenovo\\anaconda3\\envs\\aiml\\lib\\site-packages (2.10.0)\n"
     ]
    }
   ],
   "source": [
    "#!pip install keras==2.10.0"
   ]
  },
  {
   "cell_type": "code",
   "execution_count": null,
   "id": "24c42c14-4702-4b0e-b701-0e50a36e7e90",
   "metadata": {},
   "outputs": [],
   "source": [
    "#!pip install tensorflow==2.10.0"
   ]
  },
  {
   "cell_type": "code",
   "execution_count": 2,
   "id": "9ce0cb2d-cae3-4310-9cae-5f824ef5bd3f",
   "metadata": {},
   "outputs": [],
   "source": [
    "from keras.datasets import mnist\n",
    "\n",
    "#Digit MNIST dataset\n",
    "(X_train_digit, y_train_digit), (X_test_digit, y_test_digit) = mnist.load_data()"
   ]
  },
  {
   "cell_type": "code",
   "execution_count": 3,
   "id": "cce17e37-4e1a-4e17-a20b-ea019b8ea260",
   "metadata": {},
   "outputs": [
    {
     "data": {
      "text/plain": [
       "array([[[0, 0, 0, ..., 0, 0, 0],\n",
       "        [0, 0, 0, ..., 0, 0, 0],\n",
       "        [0, 0, 0, ..., 0, 0, 0],\n",
       "        ...,\n",
       "        [0, 0, 0, ..., 0, 0, 0],\n",
       "        [0, 0, 0, ..., 0, 0, 0],\n",
       "        [0, 0, 0, ..., 0, 0, 0]],\n",
       "\n",
       "       [[0, 0, 0, ..., 0, 0, 0],\n",
       "        [0, 0, 0, ..., 0, 0, 0],\n",
       "        [0, 0, 0, ..., 0, 0, 0],\n",
       "        ...,\n",
       "        [0, 0, 0, ..., 0, 0, 0],\n",
       "        [0, 0, 0, ..., 0, 0, 0],\n",
       "        [0, 0, 0, ..., 0, 0, 0]],\n",
       "\n",
       "       [[0, 0, 0, ..., 0, 0, 0],\n",
       "        [0, 0, 0, ..., 0, 0, 0],\n",
       "        [0, 0, 0, ..., 0, 0, 0],\n",
       "        ...,\n",
       "        [0, 0, 0, ..., 0, 0, 0],\n",
       "        [0, 0, 0, ..., 0, 0, 0],\n",
       "        [0, 0, 0, ..., 0, 0, 0]],\n",
       "\n",
       "       ...,\n",
       "\n",
       "       [[0, 0, 0, ..., 0, 0, 0],\n",
       "        [0, 0, 0, ..., 0, 0, 0],\n",
       "        [0, 0, 0, ..., 0, 0, 0],\n",
       "        ...,\n",
       "        [0, 0, 0, ..., 0, 0, 0],\n",
       "        [0, 0, 0, ..., 0, 0, 0],\n",
       "        [0, 0, 0, ..., 0, 0, 0]],\n",
       "\n",
       "       [[0, 0, 0, ..., 0, 0, 0],\n",
       "        [0, 0, 0, ..., 0, 0, 0],\n",
       "        [0, 0, 0, ..., 0, 0, 0],\n",
       "        ...,\n",
       "        [0, 0, 0, ..., 0, 0, 0],\n",
       "        [0, 0, 0, ..., 0, 0, 0],\n",
       "        [0, 0, 0, ..., 0, 0, 0]],\n",
       "\n",
       "       [[0, 0, 0, ..., 0, 0, 0],\n",
       "        [0, 0, 0, ..., 0, 0, 0],\n",
       "        [0, 0, 0, ..., 0, 0, 0],\n",
       "        ...,\n",
       "        [0, 0, 0, ..., 0, 0, 0],\n",
       "        [0, 0, 0, ..., 0, 0, 0],\n",
       "        [0, 0, 0, ..., 0, 0, 0]]], dtype=uint8)"
      ]
     },
     "execution_count": 3,
     "metadata": {},
     "output_type": "execute_result"
    }
   ],
   "source": [
    "X_train_digit  #15 images ,1st row for 1st images second row for 2nd images upto 15 images"
   ]
  },
  {
   "cell_type": "code",
   "execution_count": 4,
   "id": "47759fae-d1e5-4c66-b450-e200586bc684",
   "metadata": {},
   "outputs": [
    {
     "data": {
      "text/plain": [
       "array([[[0, 0, 0, ..., 0, 0, 0],\n",
       "        [0, 0, 0, ..., 0, 0, 0],\n",
       "        [0, 0, 0, ..., 0, 0, 0],\n",
       "        ...,\n",
       "        [0, 0, 0, ..., 0, 0, 0],\n",
       "        [0, 0, 0, ..., 0, 0, 0],\n",
       "        [0, 0, 0, ..., 0, 0, 0]],\n",
       "\n",
       "       [[0, 0, 0, ..., 0, 0, 0],\n",
       "        [0, 0, 0, ..., 0, 0, 0],\n",
       "        [0, 0, 0, ..., 0, 0, 0],\n",
       "        ...,\n",
       "        [0, 0, 0, ..., 0, 0, 0],\n",
       "        [0, 0, 0, ..., 0, 0, 0],\n",
       "        [0, 0, 0, ..., 0, 0, 0]],\n",
       "\n",
       "       [[0, 0, 0, ..., 0, 0, 0],\n",
       "        [0, 0, 0, ..., 0, 0, 0],\n",
       "        [0, 0, 0, ..., 0, 0, 0],\n",
       "        ...,\n",
       "        [0, 0, 0, ..., 0, 0, 0],\n",
       "        [0, 0, 0, ..., 0, 0, 0],\n",
       "        [0, 0, 0, ..., 0, 0, 0]],\n",
       "\n",
       "       ...,\n",
       "\n",
       "       [[0, 0, 0, ..., 0, 0, 0],\n",
       "        [0, 0, 0, ..., 0, 0, 0],\n",
       "        [0, 0, 0, ..., 0, 0, 0],\n",
       "        ...,\n",
       "        [0, 0, 0, ..., 0, 0, 0],\n",
       "        [0, 0, 0, ..., 0, 0, 0],\n",
       "        [0, 0, 0, ..., 0, 0, 0]],\n",
       "\n",
       "       [[0, 0, 0, ..., 0, 0, 0],\n",
       "        [0, 0, 0, ..., 0, 0, 0],\n",
       "        [0, 0, 0, ..., 0, 0, 0],\n",
       "        ...,\n",
       "        [0, 0, 0, ..., 0, 0, 0],\n",
       "        [0, 0, 0, ..., 0, 0, 0],\n",
       "        [0, 0, 0, ..., 0, 0, 0]],\n",
       "\n",
       "       [[0, 0, 0, ..., 0, 0, 0],\n",
       "        [0, 0, 0, ..., 0, 0, 0],\n",
       "        [0, 0, 0, ..., 0, 0, 0],\n",
       "        ...,\n",
       "        [0, 0, 0, ..., 0, 0, 0],\n",
       "        [0, 0, 0, ..., 0, 0, 0],\n",
       "        [0, 0, 0, ..., 0, 0, 0]]], dtype=uint8)"
      ]
     },
     "execution_count": 4,
     "metadata": {},
     "output_type": "execute_result"
    }
   ],
   "source": [
    "X_test_digit"
   ]
  },
  {
   "cell_type": "code",
   "execution_count": 5,
   "id": "c01a696b-af9d-4cf1-becd-1c4eb435548b",
   "metadata": {},
   "outputs": [
    {
     "data": {
      "text/plain": [
       "array([5, 0, 4, ..., 5, 6, 8], dtype=uint8)"
      ]
     },
     "execution_count": 5,
     "metadata": {},
     "output_type": "execute_result"
    }
   ],
   "source": [
    "y_train_digit    #15 images"
   ]
  },
  {
   "cell_type": "code",
   "execution_count": 6,
   "id": "c0977c19-7ce8-4a5d-9ab9-fb876b79b439",
   "metadata": {},
   "outputs": [
    {
     "data": {
      "image/png": "[encoded data removed]",
      "text/plain": [
       "<Figure size 1000x1000 with 15 Axes>"
      ]
     },
     "metadata": {},
     "output_type": "display_data"
    }
   ],
   "source": [
    "#Names of numbers in the dataset in order\n",
    "col_names = ['Zero','One','Two','Three','Four','Five','Six','Seven','Eight','Nine']\n",
    "\n",
    "#Visualizing the digits\n",
    "plt.figure(figsize=(10,10))\n",
    "for i in range(15):\n",
    "    plt.subplot(5,5,i+1)    #(0-14 images) 0+1= 1 up first number 5 so down five, 1+1=2 up second no 0 so down zero , upto 15 iterations\n",
    "    plt.xticks([]) #x axis not represent any numbers \n",
    "    plt.yticks([])\n",
    "    plt.imshow(X_train_digit[i], cmap='gray')\n",
    "    plt.xlabel(col_names[y_train_digit[i]])\n",
    "plt.show()"
   ]
  },
  {
   "cell_type": "markdown",
   "id": "155ee8ad-a63a-4454-8cb1-705a96113f1a",
   "metadata": {},
   "source": [
    "### INPUT PREPROCESSING ANN ACCEPTS 2D SO 3D CONVERT TO 2D"
   ]
  },
  {
   "cell_type": "code",
   "execution_count": 7,
   "id": "1ecbf2da-c7df-4a03-94a0-e3438d8e0b45",
   "metadata": {},
   "outputs": [
    {
     "data": {
      "text/plain": [
       "(60000, 28, 28)"
      ]
     },
     "execution_count": 7,
     "metadata": {},
     "output_type": "execute_result"
    }
   ],
   "source": [
    "X_train_digit.shape   #its in 3D. ANN works only in 2D. 28x28 matirx of above each image. All train set of 60000 count as 28x28"
   ]
  },
  {
   "cell_type": "code",
   "execution_count": 8,
   "id": "4b85fc07-4242-4460-b605-3847d04f4cc6",
   "metadata": {},
   "outputs": [],
   "source": [
    "X_train_digit = X_train_digit.reshape(60000, 784) #using of reshape into 2D 28x28=784 (flattern). 60000(image) wont change\n",
    "X_test_digit = X_test_digit.reshape(10000, 784) "
   ]
  },
  {
   "cell_type": "code",
   "execution_count": 9,
   "id": "f11de593-7873-42d0-b872-cc8930305096",
   "metadata": {},
   "outputs": [
    {
     "data": {
      "text/plain": [
       "(60000, 784)"
      ]
     },
     "execution_count": 9,
     "metadata": {},
     "output_type": "execute_result"
    }
   ],
   "source": [
    "X_train_digit.shape    #2D shape"
   ]
  },
  {
   "cell_type": "code",
   "execution_count": 10,
   "id": "2957bb85-3a48-4080-ae77-dfb4b6cc1748",
   "metadata": {},
   "outputs": [
    {
     "data": {
      "text/plain": [
       "(10000, 784)"
      ]
     },
     "execution_count": 10,
     "metadata": {},
     "output_type": "execute_result"
    }
   ],
   "source": [
    "X_test_digit.shape"
   ]
  },
  {
   "cell_type": "markdown",
   "id": "93558ff9-531e-4985-acf0-e660018e16d5",
   "metadata": {},
   "source": [
    "### HOW OUTPUT SHOULD BE IN ANN"
   ]
  },
  {
   "cell_type": "code",
   "execution_count": 11,
   "id": "f5a98ea1-d05b-4a6f-8bd3-b6b298baa33d",
   "metadata": {},
   "outputs": [
    {
     "data": {
      "text/plain": [
       "(10000,)"
      ]
     },
     "execution_count": 11,
     "metadata": {},
     "output_type": "execute_result"
    }
   ],
   "source": [
    "y_test_digit.shape   #its 1D shape 1D to one hotencoding"
   ]
  },
  {
   "cell_type": "code",
   "execution_count": 12,
   "id": "050fb1ff-a8f2-4244-99aa-3d4312ca64f1",
   "metadata": {},
   "outputs": [
    {
     "data": {
      "text/plain": [
       "(60000,)"
      ]
     },
     "execution_count": 12,
     "metadata": {},
     "output_type": "execute_result"
    }
   ],
   "source": [
    "y_train_digit.shape"
   ]
  },
  {
   "cell_type": "code",
   "execution_count": 13,
   "id": "c219c17f-6a99-4e5c-82a3-beb69ddc41e6",
   "metadata": {},
   "outputs": [],
   "source": [
    "#Encoding Digit MNIST Labels\n",
    "from keras.utils import to_categorical     #0-9 10 classes\n",
    "\n",
    "y_train_digit = to_categorical(y_train_digit, num_classes=10)\n",
    "\n",
    "y_test_digit = to_categorical(y_test_digit, num_classes=10)"
   ]
  },
  {
   "cell_type": "code",
   "execution_count": 14,
   "id": "59b26d76-404a-4042-b767-06c07d0f5cb0",
   "metadata": {},
   "outputs": [
    {
     "data": {
      "text/plain": [
       "array([1., 0., 0., 0., 0., 0., 0., 0., 0., 0.], dtype=float32)"
      ]
     },
     "execution_count": 14,
     "metadata": {},
     "output_type": "execute_result"
    }
   ],
   "source": [
    "y_train_digit[1]    #In ANN output should be in one hot encoding  first la 1 so its zero"
   ]
  },
  {
   "cell_type": "code",
   "execution_count": 15,
   "id": "d441bebd-fb5b-4337-b46e-083c7c48b68d",
   "metadata": {},
   "outputs": [
    {
     "data": {
      "text/plain": [
       "array([0., 0., 0., 0., 1., 0., 0., 0., 0., 0.], dtype=float32)"
      ]
     },
     "execution_count": 15,
     "metadata": {},
     "output_type": "execute_result"
    }
   ],
   "source": [
    "y_train_digit[2]   #4 la 1 so its 4"
   ]
  },
  {
   "cell_type": "code",
   "execution_count": 16,
   "id": "501d4241-64cf-4082-afdf-3444e2806645",
   "metadata": {},
   "outputs": [
    {
     "data": {
      "text/plain": [
       "array([0., 1., 0., 0., 0., 0., 0., 0., 0., 0.], dtype=float32)"
      ]
     },
     "execution_count": 16,
     "metadata": {},
     "output_type": "execute_result"
    }
   ],
   "source": [
    "y_train_digit[3]"
   ]
  },
  {
   "cell_type": "markdown",
   "id": "8810a246-7954-4d1d-9aa8-43b5cd51d498",
   "metadata": {},
   "source": [
    "### CODE FOR BRAIN ACTIVITY"
   ]
  },
  {
   "cell_type": "code",
   "execution_count": 17,
   "id": "305e2c7d-4f7c-4ce0-9124-c83a77fa0b49",
   "metadata": {},
   "outputs": [],
   "source": [
    "#Creating base neural network\n",
    "from keras.models import Sequential         #its just a proceedure for brain activity\n",
    "\n",
    "model = keras.Sequential([\n",
    "    layers.Dense(256, activation='relu', input_shape=(784,)),  #activation functi-256-playable parame(hiddenlay-1rrevi test),784=28x28(input neurons)\n",
    "    #layers.Dropout(0.3),\n",
    "    #layers.BatchNormalization(),\n",
    "    layers.Dense(64, activation='relu'),    #2hiddenlayer(2revision test)\n",
    "    #layers.Dropout(0.3),\n",
    "    #layers.BatchNormalization(),\n",
    "    layers.Dense(64, activation='relu'),    #3hiddenlayer(3revision test)\n",
    "    #layers.Dropout(0.3),\n",
    "    #layers.BatchNormalization(),\n",
    "    layers.Dense(10,activation='sigmoid'),   #output,10--> classifica count  \n",
    "])"
   ]
  },
  {
   "cell_type": "code",
   "execution_count": 18,
   "id": "eec3c151-179d-45fe-ae59-fe29ffee4a79",
   "metadata": {},
   "outputs": [
    {
     "name": "stdout",
     "output_type": "stream",
     "text": [
      "Model: \"sequential\"\n",
      "_________________________________________________________________\n",
      " Layer (type)                Output Shape              Param #   \n",
      "=================================================================\n",
      " dense (Dense)               (None, 256)               200960    \n",
      "                                                                 \n",
      " dense_1 (Dense)             (None, 64)                16448     \n",
      "                                                                 \n",
      " dense_2 (Dense)             (None, 64)                4160      \n",
      "                                                                 \n",
      " dense_3 (Dense)             (None, 10)                650       \n",
      "                                                                 \n",
      "=================================================================\n",
      "Total params: 222,218\n",
      "Trainable params: 222,218\n",
      "Non-trainable params: 0\n",
      "_________________________________________________________________\n"
     ]
    }
   ],
   "source": [
    "#param_number = output_channel_number * (input_channel_number + 1)\n",
    "model.summary()   # 784 cells->256 oda epadi react achu"
   ]
  },
  {
   "cell_type": "code",
   "execution_count": 19,
   "id": "228628b0-916a-4b85-96eb-539ec3b2de49",
   "metadata": {},
   "outputs": [],
   "source": [
    "#Compiling the model\n",
    "model.compile(loss=\"categorical_crossentropy\",\n",
    "              optimizer=\"adam\",\n",
    "              metrics = ['accuracy'])"
   ]
  },
  {
   "cell_type": "code",
   "execution_count": 20,
   "id": "77e66f26-c83f-486c-b7fc-dee7cfaac372",
   "metadata": {},
   "outputs": [
    {
     "name": "stdout",
     "output_type": "stream",
     "text": [
      "Epoch 1/10\n",
      "600/600 [==============================] - 6s 7ms/step - loss: 1.4724 - accuracy: 0.8484 - val_loss: 0.3131 - val_accuracy: 0.9172\n",
      "Epoch 2/10\n",
      "600/600 [==============================] - 4s 7ms/step - loss: 0.2518 - accuracy: 0.9330 - val_loss: 0.2653 - val_accuracy: 0.9312\n",
      "Epoch 3/10\n",
      "600/600 [==============================] - 4s 6ms/step - loss: 0.1820 - accuracy: 0.9502 - val_loss: 0.1972 - val_accuracy: 0.9518\n",
      "Epoch 4/10\n",
      "600/600 [==============================] - 4s 6ms/step - loss: 0.1395 - accuracy: 0.9611 - val_loss: 0.2041 - val_accuracy: 0.9484\n",
      "Epoch 5/10\n",
      "600/600 [==============================] - 4s 6ms/step - loss: 0.1267 - accuracy: 0.9644 - val_loss: 0.2006 - val_accuracy: 0.9560\n",
      "Epoch 6/10\n",
      "600/600 [==============================] - 4s 6ms/step - loss: 0.1111 - accuracy: 0.9688 - val_loss: 0.1996 - val_accuracy: 0.9507\n",
      "Epoch 7/10\n",
      "600/600 [==============================] - 4s 6ms/step - loss: 0.1080 - accuracy: 0.9695 - val_loss: 0.1524 - val_accuracy: 0.9625\n",
      "Epoch 8/10\n",
      "600/600 [==============================] - 4s 6ms/step - loss: 0.0906 - accuracy: 0.9749 - val_loss: 0.1534 - val_accuracy: 0.9622\n",
      "Epoch 9/10\n",
      "600/600 [==============================] - 4s 6ms/step - loss: 0.0832 - accuracy: 0.9764 - val_loss: 0.1539 - val_accuracy: 0.9623\n",
      "Epoch 10/10\n",
      "600/600 [==============================] - 4s 6ms/step - loss: 0.0807 - accuracy: 0.9772 - val_loss: 0.1435 - val_accuracy: 0.9680\n"
     ]
    }
   ],
   "source": [
    "history=model.fit(X_train_digit, y_train_digit, batch_size=100, epochs=10,validation_data=(X_test_digit, y_test_digit))\n",
    "                     #train-padikardhu                                                                 #test-revision test  repeated nadakum\n",
    "        #one epoch-entire dataset is passed (Feed Forw and Back Propoga) through neural n/w only once\n",
    "        #batch_size is no of train(i/p) samples that are fed to the neural n/w at once\n",
    "#60000 images ah 100 batch kula send panalam,1epoch feedforward and back propogation finish only once "
   ]
  },
  {
   "cell_type": "code",
   "execution_count": 21,
   "id": "4ff560fc-3c98-4826-abd4-5d69918da536",
   "metadata": {},
   "outputs": [],
   "source": [
    "# validation_loss test data result val_accuracy test data result (Always we see test data result)\n",
    "#here accuracy is epoch10/10 96%. if some times accuracy not good go to code for brain activity #layers(dropout) condition can try\n",
    "# dropout-> in epoch 1/10 accuracy 0.8375-0.3 will do."
   ]
  },
  {
   "cell_type": "code",
   "execution_count": 22,
   "id": "5dcce21d-c26c-4f02-98c2-0f9b7861cdc9",
   "metadata": {},
   "outputs": [
    {
     "name": "stdout",
     "output_type": "stream",
     "text": [
      "313/313 [==============================] - 2s 3ms/step\n"
     ]
    }
   ],
   "source": [
    "# going to test rsult\n",
    "#Predicting the labels-DIGIT\n",
    "y_predict = model.predict(X_test_digit)"
   ]
  },
  {
   "cell_type": "code",
   "execution_count": 24,
   "id": "a76ac2b6-d323-4b3d-8f51-261cf62b8274",
   "metadata": {},
   "outputs": [
    {
     "data": {
      "text/plain": [
       "array([1.3104514e-07, 9.9999726e-01, 9.9998581e-01, 4.0590722e-02,\n",
       "       9.9999982e-01, 2.0384559e-02, 5.6961122e-05, 1.0000000e+00,\n",
       "       2.6128898e-04, 9.9999946e-01], dtype=float32)"
      ]
     },
     "execution_count": 24,
     "metadata": {},
     "output_type": "execute_result"
    }
   ],
   "source": [
    "y_predict[0]    # 0-9 la At first 0 image la yena handwriiten image kila [0-9] image number la iruku.partha theriyadhu"
   ]
  },
  {
   "cell_type": "code",
   "execution_count": 25,
   "id": "8e6d5a18-0018-4b36-a35a-874c121bf19a",
   "metadata": {},
   "outputs": [
    {
     "data": {
      "text/plain": [
       "array([7.5517711e-04, 4.8935027e-03, 1.0000000e+00, 3.3747235e-01,\n",
       "       3.4446206e-05, 1.4670534e-03, 1.3132733e-21, 6.4033810e-03,\n",
       "       1.6722240e-06, 4.7476438e-01], dtype=float32)"
      ]
     },
     "execution_count": 25,
     "metadata": {},
     "output_type": "execute_result"
    }
   ],
   "source": [
    "y_predict[1]   #next handwritten image"
   ]
  },
  {
   "cell_type": "markdown",
   "id": "27e18e52-02e9-4b95-bd99-1bf736f2ca4b",
   "metadata": {},
   "source": [
    "### FOR CONFUSION MATRIX (ACTUAL O/P - PREDIC O/P)(Y_PREDICTS - Y_TEST)"
   ]
  },
  {
   "cell_type": "code",
   "execution_count": 26,
   "id": "3077b698-aa2b-4c38-b023-8fd484d8a498",
   "metadata": {},
   "outputs": [],
   "source": [
    "y_predicts=np.argmax(y_predict, axis=1) # Here we get the index of maximum value in the encoded vector\n",
    "# here we convert to one hot encoded array changes to number 0 image la yena handwritten no nu we knows"
   ]
  },
  {
   "cell_type": "code",
   "execution_count": 27,
   "id": "510f959c-5546-4535-9b5f-04060ca91907",
   "metadata": {},
   "outputs": [
    {
     "data": {
      "text/plain": [
       "array([7, 2, 1, ..., 4, 5, 6], dtype=int64)"
      ]
     },
     "execution_count": 27,
     "metadata": {},
     "output_type": "execute_result"
    }
   ],
   "source": [
    "y_predicts"
   ]
  },
  {
   "cell_type": "code",
   "execution_count": 28,
   "id": "acf9f968-ea45-41b5-9852-876922baf76c",
   "metadata": {},
   "outputs": [
    {
     "data": {
      "text/plain": [
       "7"
      ]
     },
     "execution_count": 28,
     "metadata": {},
     "output_type": "execute_result"
    }
   ],
   "source": [
    "y_predicts[0]"
   ]
  },
  {
   "cell_type": "code",
   "execution_count": 29,
   "id": "9e669497-12f2-494d-ba12-4d4f75c64792",
   "metadata": {},
   "outputs": [
    {
     "data": {
      "text/plain": [
       "2"
      ]
     },
     "execution_count": 29,
     "metadata": {},
     "output_type": "execute_result"
    }
   ],
   "source": [
    "y_predicts[1]"
   ]
  },
  {
   "cell_type": "code",
   "execution_count": 38,
   "id": "57eef6e2-4e6d-46f1-a934-a708dc5b05dd",
   "metadata": {},
   "outputs": [
    {
     "data": {
      "text/plain": [
       "9"
      ]
     },
     "execution_count": 38,
     "metadata": {},
     "output_type": "execute_result"
    }
   ],
   "source": [
    "y_predicts[1000]"
   ]
  },
  {
   "cell_type": "code",
   "execution_count": 39,
   "id": "1c00b1d9-c218-4f3c-ad06-cf3381ce53c5",
   "metadata": {},
   "outputs": [],
   "source": [
    "y_test_digit_eval=np.argmax(y_test_digit, axis=1)      #test o/p also convert to argmax "
   ]
  },
  {
   "cell_type": "code",
   "execution_count": 40,
   "id": "4446ba8c-bb38-41dc-a2cd-f5c5953d655b",
   "metadata": {},
   "outputs": [
    {
     "data": {
      "text/plain": [
       "array([7, 2, 1, ..., 4, 5, 6], dtype=int64)"
      ]
     },
     "execution_count": 40,
     "metadata": {},
     "output_type": "execute_result"
    }
   ],
   "source": [
    "y_test_digit_eval"
   ]
  },
  {
   "cell_type": "code",
   "execution_count": 41,
   "id": "ecff385f-a9d0-4bad-b5f3-48deefb83128",
   "metadata": {},
   "outputs": [
    {
     "data": {
      "text/plain": [
       "7"
      ]
     },
     "execution_count": 41,
     "metadata": {},
     "output_type": "execute_result"
    }
   ],
   "source": [
    "y_test_digit_eval[0]"
   ]
  },
  {
   "cell_type": "code",
   "execution_count": 42,
   "id": "726241bc-f517-43d6-a93e-7c3dca2b16de",
   "metadata": {},
   "outputs": [
    {
     "data": {
      "text/plain": [
       "9"
      ]
     },
     "execution_count": 42,
     "metadata": {},
     "output_type": "execute_result"
    }
   ],
   "source": [
    "y_test_digit_eval[1000]"
   ]
  },
  {
   "cell_type": "markdown",
   "id": "4a91d3d8-e8c6-4b22-8ecf-19eb9a232512",
   "metadata": {},
   "source": [
    "### CONFUSION MATRIX IN HEAT MAP FIGURE WHICH NUMBER READ MOSTLY"
   ]
  },
  {
   "cell_type": "code",
   "execution_count": 47,
   "id": "b7056a77-4627-4c7f-a59b-681f701431af",
   "metadata": {},
   "outputs": [
    {
     "data": {
      "image/png": "[encoded data removed]",
      "text/plain": [
       "<Figure size 1000x1000 with 2 Axes>"
      ]
     },
     "metadata": {},
     "output_type": "display_data"
    }
   ],
   "source": [
    "#Confusion matrix for Digit MNIST\n",
    "con_mat=confusion_matrix(y_test_digit_eval,y_predicts)\n",
    "plt.style.use('seaborn-v0_8-deep')\n",
    "plt.figure(figsize=(10,10))\n",
    "sns.heatmap(con_mat,annot=True,annot_kws={'size': 15},linewidths=0.5,fmt=\"d\",cmap=\"gray\")\n",
    "plt.title('True or False predicted digit MNIST\\n',fontweight='bold',fontsize=15)\n",
    "plt.show()"
   ]
  },
  {
   "cell_type": "code",
   "execution_count": null,
   "id": "cbbe23d1-e078-4090-8696-c98cd31791f0",
   "metadata": {},
   "outputs": [],
   "source": [
    "#in heat map horizontal-->predicted val  vertical-->actual val  1-1 (white)is highest handwritten 1 shows(nala padichurku predicted) .diagonal only we \n",
    "#consider."
   ]
  },
  {
   "cell_type": "markdown",
   "id": "86f77235-1a77-4fdc-b79b-f4582bd60e27",
   "metadata": {},
   "source": [
    "### f1 score-- 0.96 is higher value 4 hand written image nicely predicted. lowest 0.56,0.38 3,5 number not predicted (kandupidika mudiyala)"
   ]
  },
  {
   "cell_type": "code",
   "execution_count": 48,
   "id": "97e55644-e4f2-4d0f-89ba-d54aa6f0efee",
   "metadata": {},
   "outputs": [
    {
     "name": "stdout",
     "output_type": "stream",
     "text": [
      "              precision    recall  f1-score   support\n",
      "\n",
      "           0       0.96      0.99      0.98       980\n",
      "           1       0.96      0.98      0.97      1135\n",
      "           2       0.90      0.97      0.93      1032\n",
      "           3       0.85      0.97      0.91      1010\n",
      "           4       0.90      0.95      0.92       982\n",
      "           5       0.96      0.81      0.88       892\n",
      "           6       0.99      0.95      0.97       958\n",
      "           7       0.93      0.84      0.88      1028\n",
      "           8       0.94      0.96      0.95       974\n",
      "           9       0.97      0.90      0.93      1009\n",
      "\n",
      "    accuracy                           0.93     10000\n",
      "   macro avg       0.94      0.93      0.93     10000\n",
      "weighted avg       0.94      0.93      0.93     10000\n",
      "\n"
     ]
    }
   ],
   "source": [
    "from sklearn.metrics import classification_report\n",
    "print(classification_report(y_test_digit_eval,y_predicts))"
   ]
  },
  {
   "cell_type": "markdown",
   "id": "69d0ea17-9a78-4c1e-9eb6-e1b36edd6358",
   "metadata": {},
   "source": [
    "### SO MANY TIMES READ(FEED FORWRD & BACK PROPOGATION ) SEE THE ACCURACY FOR EPOCH FROM HISTORY"
   ]
  },
  {
   "cell_type": "code",
   "execution_count": 49,
   "id": "ff77f5f3-57f3-4a7d-8b4f-52ea500e1c7f",
   "metadata": {},
   "outputs": [
    {
     "data": {
      "image/png": "[encoded data removed]",
      "text/plain": [
       "<Figure size 640x480 with 1 Axes>"
      ]
     },
     "metadata": {},
     "output_type": "display_data"
    }
   ],
   "source": [
    "# summarize history for accuracy\n",
    "plt.plot(history.history['accuracy'])\n",
    "plt.plot(history.history['val_accuracy'])\n",
    "plt.title('model accuracy')\n",
    "plt.ylabel('accuracy')\n",
    "plt.xlabel('epoch')\n",
    "plt.legend(['train', 'test'], loc='best')\n",
    "\n",
    "plt.show()\n",
    "\n",
    "#Acuracy always from Decreasing to Increasing level(more train and test gives good result)"
   ]
  },
  {
   "cell_type": "markdown",
   "id": "077c73aa-f089-4cd4-af06-026aabf60469",
   "metadata": {},
   "source": [
    "### GRAPH FOR LOSS FUNCTION (GRAPH LINES HIGHEST TO LOWEST-- MISTAKES IS MORE END IT WILL BE LOW)"
   ]
  },
  {
   "cell_type": "code",
   "execution_count": 50,
   "id": "4f0973e5-4a19-4af3-98c6-4e3d47559128",
   "metadata": {},
   "outputs": [
    {
     "data": {
      "image/png": "[encoded data removed]",
      "text/plain": [
       "<Figure size 640x480 with 1 Axes>"
      ]
     },
     "metadata": {},
     "output_type": "display_data"
    }
   ],
   "source": [
    "plt.plot(history.history['loss'])\n",
    "plt.plot(history.history['val_loss'])\n",
    "plt.title('model loss')\n",
    "plt.ylabel('loss')\n",
    "plt.xlabel('epoch')\n",
    "plt.legend(['train', 'test'], loc='best')\n",
    "plt.show()"
   ]
  },
  {
   "cell_type": "markdown",
   "id": "bbd124b0-52e7-43cf-951d-24212b39c809",
   "metadata": {},
   "source": [
    "### SINGLE IMAGE DEPLOYMENT SHOW TO THE USER SATISFACTION"
   ]
  },
  {
   "cell_type": "code",
   "execution_count": 68,
   "id": "4e980ef3-9270-441a-bf9b-b62967223064",
   "metadata": {},
   "outputs": [
    {
     "name": "stdout",
     "output_type": "stream",
     "text": [
      "1/1 [==============================] - 0s 39ms/step\n"
     ]
    }
   ],
   "source": [
    "#tf.expand_dims(X_test_digit[0])\n",
    "y_predict_single = model.predict(X_test_digit[[2]])    #X_TEST la oru image passed\n",
    "y_predicts_single=np.argmax(y_predict_single, axis=1) # Here we get the index of maximum value in the encoded vector\n",
    "y_test_digit_eval=np.argmax(y_test_digit, axis=1)"
   ]
  },
  {
   "cell_type": "code",
   "execution_count": 69,
   "id": "f45fa426-fb15-428f-b428-667d055ae564",
   "metadata": {},
   "outputs": [
    {
     "data": {
      "text/plain": [
       "array([1], dtype=int64)"
      ]
     },
     "execution_count": 69,
     "metadata": {},
     "output_type": "execute_result"
    }
   ],
   "source": [
    "y_predicts_single   #2nd image la handwritten 1 so array[1] below"
   ]
  },
  {
   "cell_type": "code",
   "execution_count": 58,
   "id": "ebb516c2-6ea3-4d2c-9602-528d71e4b3b1",
   "metadata": {},
   "outputs": [
    {
     "data": {
      "text/plain": [
       "array([[0., 0., 0., ..., 1., 0., 0.],\n",
       "       [0., 0., 1., ..., 0., 0., 0.],\n",
       "       [0., 1., 0., ..., 0., 0., 0.],\n",
       "       ...,\n",
       "       [0., 0., 0., ..., 0., 0., 0.],\n",
       "       [0., 0., 0., ..., 0., 0., 0.],\n",
       "       [0., 0., 0., ..., 0., 0., 0.]], dtype=float32)"
      ]
     },
     "execution_count": 58,
     "metadata": {},
     "output_type": "execute_result"
    }
   ],
   "source": [
    "y_test_digit"
   ]
  },
  {
   "cell_type": "code",
   "execution_count": 57,
   "id": "59ee957b-686b-4ddb-ac48-62d5542bb2a4",
   "metadata": {},
   "outputs": [
    {
     "data": {
      "text/plain": [
       "array([7, 2, 1, ..., 4, 5, 6], dtype=int64)"
      ]
     },
     "execution_count": 57,
     "metadata": {},
     "output_type": "execute_result"
    }
   ],
   "source": [
    "y_test_digit_eval"
   ]
  },
  {
   "cell_type": "code",
   "execution_count": 59,
   "id": "3371ac1b-825d-4642-850e-d6a7fbe45a27",
   "metadata": {},
   "outputs": [
    {
     "data": {
      "image/png": "[encoded data removed]",
      "text/plain": [
       "<Figure size 640x480 with 1 Axes>"
      ]
     },
     "metadata": {},
     "output_type": "display_data"
    }
   ],
   "source": [
    "#Names of numbers in the dataset in order\n",
    "col_names = ['Zero','One','Two','Three','Four','Five','Six','Seven','Eight','Nine']\n",
    "\n",
    "#Visualizing the digits\n",
    "#plt.figure(figsize=(10,10))\n",
    "plt.imshow(X_test_digit[2].reshape(28,28), cmap='gray')   #784=28x28 matrix\n",
    "plt.xlabel(\"Actual:{},Pred:{}\".format(col_names[np.argmax(y_test_digit[2])],col_names[y_predicts_single[0]]))\n",
    "plt.show()                                    #[np.argmax(1)-->so col_names 1 is one so down of the image print one"
   ]
  },
  {
   "cell_type": "code",
   "execution_count": null,
   "id": "b6e22c46-c5b0-403c-a025-fc857253a200",
   "metadata": {},
   "outputs": [],
   "source": []
  }
 ],
 "metadata": {
  "kernelspec": {
   "display_name": "Python 3 (ipykernel)",
   "language": "python",
   "name": "python3"
  },
  "language_info": {
   "codemirror_mode": {
    "name": "ipython",
    "version": 3
   },
   "file_extension": ".py",
   "mimetype": "text/x-python",
   "name": "python",
   "nbconvert_exporter": "python",
   "pygments_lexer": "ipython3",
   "version": "3.10.14"
  }
 },
 "nbformat": 4,
 "nbformat_minor": 5
}
